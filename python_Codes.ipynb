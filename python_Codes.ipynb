{
 "cells": [
  {
   "cell_type": "code",
   "execution_count": 2,
   "metadata": {},
   "outputs": [],
   "source": [
    "%matplotlib notebook\n",
    "\n",
    "import pandas as pd\n",
    "import numpy as np\n",
    "import seaborn as sns\n",
    "import matplotlib.pyplot as plt\n",
    "from sklearn.manifold import TSNE\n",
    "import umap\n",
    "import phate\n",
    "\n",
    "sns.set(style='white')"
   ]
  },
  {
   "cell_type": "code",
   "execution_count": null,
   "metadata": {},
   "outputs": [],
   "source": []
  },
  {
   "cell_type": "code",
   "execution_count": null,
   "metadata": {},
   "outputs": [],
   "source": []
  },
  {
   "cell_type": "markdown",
   "metadata": {},
   "source": [
    "# GSE152075"
   ]
  },
  {
   "cell_type": "code",
   "execution_count": null,
   "metadata": {},
   "outputs": [],
   "source": [
    "gse_075d = pd.read_csv('GSE152075_raw_counts_GEO.csv').set_index('Unnamed: 0')\n",
    "\n",
    "labels = pd.read_table('Class_075.txt').set_index('!Sample_title').T\n",
    "\n",
    "\n",
    "\n",
    "\n"
   ]
  },
  {
   "cell_type": "markdown",
   "metadata": {},
   "source": [
    "## UMAP"
   ]
  },
  {
   "cell_type": "code",
   "execution_count": null,
   "metadata": {},
   "outputs": [],
   "source": [
    "umapper = umap.UMAP(n_neighbors=15,random_state=42).fit_transform(gse_075.values)\n",
    "#umap.plot.points(dens_mapper, labels=Class['!sars-cov-2 rpm'], width=500, height=500)\n",
    "fig = plt.figure()\n",
    "\n",
    "\n",
    "sns.set_style(\"white\")\n",
    "sns.scatterplot(x=umapper[:,0],y=umapper[:,1],hue=labels['!Positiviy'],  linewidth=0.2, s=30, alpha=1).set_title('UMAP ')\n",
    "#lgd = plt.legend(frameon=False,title='TEST',handletextpad=-0.3,bbox_to_anchor=(0.5, 0.2, 1.00, 1.02),fancybox=True,shadow=False,mode=\"expand\", borderaxespad=-1.5, ncol=4)\n",
    "plt.xlabel(\"UMAP1\")\n",
    "plt.ylabel(\"UMAP2\")"
   ]
  },
  {
   "cell_type": "code",
   "execution_count": null,
   "metadata": {},
   "outputs": [],
   "source": []
  },
  {
   "cell_type": "markdown",
   "metadata": {},
   "source": [
    "## t-SNE"
   ]
  },
  {
   "cell_type": "code",
   "execution_count": null,
   "metadata": {},
   "outputs": [],
   "source": [
    "tsne = TSNE(perplexity=25)\n",
    "%time tsne_075 = tsne.fit_transform(gse_075.values)\n",
    "\n",
    "sns.scatterplot(x=tsne_075[:,0],y=tsne_075[:,1],hue=labels['!Positiviy'].values, linewidth=0.2, s=30, alpha=1).set_title('t-SNE')\n",
    "#lgd = plt.legend( bbox_to_anchor=(1.0, 1), loc='upper left')\n",
    "plt.xlabel(\"t-SNE1\")\n",
    "plt.ylabel(\"t-SNE2\")"
   ]
  },
  {
   "cell_type": "code",
   "execution_count": null,
   "metadata": {},
   "outputs": [],
   "source": []
  },
  {
   "cell_type": "markdown",
   "metadata": {},
   "source": [
    "## SAM"
   ]
  },
  {
   "cell_type": "code",
   "execution_count": null,
   "metadata": {},
   "outputs": [],
   "source": [
    "from samalg import SAM #import SAM\n",
    "sam=SAM(counts=gse_075)\n",
    "sam.preprocess_data() # log transforms and filters the data\n",
    "sam.run() #run with default parameters\n",
    "sam.scatter(c = labels['!Positiviy'])"
   ]
  },
  {
   "cell_type": "code",
   "execution_count": null,
   "metadata": {},
   "outputs": [],
   "source": []
  },
  {
   "cell_type": "markdown",
   "metadata": {},
   "source": [
    "## PHATE"
   ]
  },
  {
   "cell_type": "code",
   "execution_count": null,
   "metadata": {},
   "outputs": [],
   "source": [
    "\n",
    "phate_operator = phate.PHATE()\n",
    "ph = phate_operator.fit_transform(gse_075.values)\n",
    "\n",
    "sns.set_style(\"white\")\n",
    "sns.scatterplot(x=ph[:,0],y=ph[:,1],hue=labels['disease state'],  linewidth=0.2, s=30, alpha=1).set_title('PHATE')\n",
    "#lgd = plt.legend(frameon=False,title='TEST',handletextpad=-0.3,bbox_to_anchor=(0.5, 0.2, 1.00, 1.02),fancybox=True,shadow=False,mode=\"expand\", borderaxespad=-1.5, ncol=4)\n",
    "plt.xlabel(\"PHATE1\")\n",
    "plt.ylabel(\"PHATE2\")"
   ]
  },
  {
   "cell_type": "code",
   "execution_count": null,
   "metadata": {},
   "outputs": [],
   "source": []
  },
  {
   "cell_type": "code",
   "execution_count": null,
   "metadata": {},
   "outputs": [],
   "source": []
  },
  {
   "cell_type": "code",
   "execution_count": null,
   "metadata": {},
   "outputs": [],
   "source": []
  },
  {
   "cell_type": "markdown",
   "metadata": {},
   "source": [
    "# GSE163151"
   ]
  },
  {
   "cell_type": "code",
   "execution_count": 19,
   "metadata": {},
   "outputs": [],
   "source": [
    "gse_151_init = pd.read_csv('GSE163151.csv').set_index('Unnamed: 0')\n",
    "\n",
    "labels = pd.read_csv('../emb/labels/Labels/Class_151.csv')#.set_index('ind')\n",
    "labels['index'] = gse_151_init.index\n",
    "labels.set_index('index',inplace = True)"
   ]
  },
  {
   "cell_type": "code",
   "execution_count": 22,
   "metadata": {},
   "outputs": [
    {
     "data": {
      "text/html": [
       "<div>\n",
       "<style scoped>\n",
       "    .dataframe tbody tr th:only-of-type {\n",
       "        vertical-align: middle;\n",
       "    }\n",
       "\n",
       "    .dataframe tbody tr th {\n",
       "        vertical-align: top;\n",
       "    }\n",
       "\n",
       "    .dataframe thead th {\n",
       "        text-align: right;\n",
       "    }\n",
       "</style>\n",
       "<table border=\"1\" class=\"dataframe\">\n",
       "  <thead>\n",
       "    <tr style=\"text-align: right;\">\n",
       "      <th></th>\n",
       "      <th>A1BG</th>\n",
       "      <th>A1BG_AS1</th>\n",
       "      <th>A1CF</th>\n",
       "      <th>A2M</th>\n",
       "      <th>A2M_AS1</th>\n",
       "      <th>A2ML1</th>\n",
       "      <th>A2MP1</th>\n",
       "      <th>A3GALT2</th>\n",
       "      <th>A4GALT</th>\n",
       "      <th>A4GNT</th>\n",
       "      <th>...</th>\n",
       "      <th>ZWINT</th>\n",
       "      <th>ZXDA</th>\n",
       "      <th>ZXDB</th>\n",
       "      <th>ZXDC</th>\n",
       "      <th>ZYG11A</th>\n",
       "      <th>ZYG11B</th>\n",
       "      <th>ZYX</th>\n",
       "      <th>ZZEF1</th>\n",
       "      <th>ZZZ3</th>\n",
       "      <th>disease state</th>\n",
       "    </tr>\n",
       "    <tr>\n",
       "      <th>Unnamed: 0</th>\n",
       "      <th></th>\n",
       "      <th></th>\n",
       "      <th></th>\n",
       "      <th></th>\n",
       "      <th></th>\n",
       "      <th></th>\n",
       "      <th></th>\n",
       "      <th></th>\n",
       "      <th></th>\n",
       "      <th></th>\n",
       "      <th></th>\n",
       "      <th></th>\n",
       "      <th></th>\n",
       "      <th></th>\n",
       "      <th></th>\n",
       "      <th></th>\n",
       "      <th></th>\n",
       "      <th></th>\n",
       "      <th></th>\n",
       "      <th></th>\n",
       "      <th></th>\n",
       "    </tr>\n",
       "  </thead>\n",
       "  <tbody>\n",
       "    <tr>\n",
       "      <th>gene_id_NPS-502_</th>\n",
       "      <td>0</td>\n",
       "      <td>0</td>\n",
       "      <td>0</td>\n",
       "      <td>0</td>\n",
       "      <td>0</td>\n",
       "      <td>4</td>\n",
       "      <td>0</td>\n",
       "      <td>0</td>\n",
       "      <td>20</td>\n",
       "      <td>0</td>\n",
       "      <td>...</td>\n",
       "      <td>0</td>\n",
       "      <td>0</td>\n",
       "      <td>3</td>\n",
       "      <td>10</td>\n",
       "      <td>0</td>\n",
       "      <td>8</td>\n",
       "      <td>1</td>\n",
       "      <td>48</td>\n",
       "      <td>6</td>\n",
       "      <td>Viral acute respiratory illness</td>\n",
       "    </tr>\n",
       "    <tr>\n",
       "      <th>gene_id_NPS-444_</th>\n",
       "      <td>0</td>\n",
       "      <td>0</td>\n",
       "      <td>0</td>\n",
       "      <td>5</td>\n",
       "      <td>0</td>\n",
       "      <td>1</td>\n",
       "      <td>0</td>\n",
       "      <td>1</td>\n",
       "      <td>35</td>\n",
       "      <td>0</td>\n",
       "      <td>...</td>\n",
       "      <td>2</td>\n",
       "      <td>0</td>\n",
       "      <td>1</td>\n",
       "      <td>10</td>\n",
       "      <td>0</td>\n",
       "      <td>4</td>\n",
       "      <td>10</td>\n",
       "      <td>49</td>\n",
       "      <td>1</td>\n",
       "      <td>Viral acute respiratory illness</td>\n",
       "    </tr>\n",
       "    <tr>\n",
       "      <th>gene_id_NPS-445_</th>\n",
       "      <td>1</td>\n",
       "      <td>0</td>\n",
       "      <td>0</td>\n",
       "      <td>1</td>\n",
       "      <td>0</td>\n",
       "      <td>0</td>\n",
       "      <td>0</td>\n",
       "      <td>0</td>\n",
       "      <td>4</td>\n",
       "      <td>0</td>\n",
       "      <td>...</td>\n",
       "      <td>0</td>\n",
       "      <td>0</td>\n",
       "      <td>0</td>\n",
       "      <td>1</td>\n",
       "      <td>0</td>\n",
       "      <td>0</td>\n",
       "      <td>10</td>\n",
       "      <td>5</td>\n",
       "      <td>3</td>\n",
       "      <td>Viral acute respiratory illness</td>\n",
       "    </tr>\n",
       "    <tr>\n",
       "      <th>gene_id_NPS-447_</th>\n",
       "      <td>0</td>\n",
       "      <td>0</td>\n",
       "      <td>0</td>\n",
       "      <td>1</td>\n",
       "      <td>0</td>\n",
       "      <td>3</td>\n",
       "      <td>1</td>\n",
       "      <td>1</td>\n",
       "      <td>11</td>\n",
       "      <td>0</td>\n",
       "      <td>...</td>\n",
       "      <td>0</td>\n",
       "      <td>0</td>\n",
       "      <td>1</td>\n",
       "      <td>5</td>\n",
       "      <td>2</td>\n",
       "      <td>2</td>\n",
       "      <td>9</td>\n",
       "      <td>5</td>\n",
       "      <td>1</td>\n",
       "      <td>Viral acute respiratory illness</td>\n",
       "    </tr>\n",
       "    <tr>\n",
       "      <th>gene_id_NPS-612_</th>\n",
       "      <td>0</td>\n",
       "      <td>0</td>\n",
       "      <td>0</td>\n",
       "      <td>1</td>\n",
       "      <td>0</td>\n",
       "      <td>3</td>\n",
       "      <td>0</td>\n",
       "      <td>0</td>\n",
       "      <td>35</td>\n",
       "      <td>0</td>\n",
       "      <td>...</td>\n",
       "      <td>0</td>\n",
       "      <td>0</td>\n",
       "      <td>3</td>\n",
       "      <td>6</td>\n",
       "      <td>0</td>\n",
       "      <td>1</td>\n",
       "      <td>10</td>\n",
       "      <td>22</td>\n",
       "      <td>4</td>\n",
       "      <td>Viral acute respiratory illness</td>\n",
       "    </tr>\n",
       "    <tr>\n",
       "      <th>...</th>\n",
       "      <td>...</td>\n",
       "      <td>...</td>\n",
       "      <td>...</td>\n",
       "      <td>...</td>\n",
       "      <td>...</td>\n",
       "      <td>...</td>\n",
       "      <td>...</td>\n",
       "      <td>...</td>\n",
       "      <td>...</td>\n",
       "      <td>...</td>\n",
       "      <td>...</td>\n",
       "      <td>...</td>\n",
       "      <td>...</td>\n",
       "      <td>...</td>\n",
       "      <td>...</td>\n",
       "      <td>...</td>\n",
       "      <td>...</td>\n",
       "      <td>...</td>\n",
       "      <td>...</td>\n",
       "      <td>...</td>\n",
       "      <td>...</td>\n",
       "    </tr>\n",
       "    <tr>\n",
       "      <th>gene_id_FLU_22_S38_</th>\n",
       "      <td>23</td>\n",
       "      <td>4</td>\n",
       "      <td>6</td>\n",
       "      <td>4768</td>\n",
       "      <td>926</td>\n",
       "      <td>2</td>\n",
       "      <td>358</td>\n",
       "      <td>13</td>\n",
       "      <td>2</td>\n",
       "      <td>0</td>\n",
       "      <td>...</td>\n",
       "      <td>109</td>\n",
       "      <td>220</td>\n",
       "      <td>226</td>\n",
       "      <td>1703</td>\n",
       "      <td>10</td>\n",
       "      <td>1363</td>\n",
       "      <td>957</td>\n",
       "      <td>3431</td>\n",
       "      <td>1439</td>\n",
       "      <td>Bacterial sepsis</td>\n",
       "    </tr>\n",
       "    <tr>\n",
       "      <th>gene_id_FLU_27_S195_</th>\n",
       "      <td>16</td>\n",
       "      <td>1</td>\n",
       "      <td>0</td>\n",
       "      <td>61</td>\n",
       "      <td>21</td>\n",
       "      <td>0</td>\n",
       "      <td>10</td>\n",
       "      <td>14</td>\n",
       "      <td>0</td>\n",
       "      <td>0</td>\n",
       "      <td>...</td>\n",
       "      <td>5</td>\n",
       "      <td>29</td>\n",
       "      <td>41</td>\n",
       "      <td>517</td>\n",
       "      <td>0</td>\n",
       "      <td>645</td>\n",
       "      <td>3930</td>\n",
       "      <td>1969</td>\n",
       "      <td>165</td>\n",
       "      <td>Bacterial sepsis</td>\n",
       "    </tr>\n",
       "    <tr>\n",
       "      <th>gene_id_FLU_29_S179_</th>\n",
       "      <td>2</td>\n",
       "      <td>0</td>\n",
       "      <td>0</td>\n",
       "      <td>218</td>\n",
       "      <td>44</td>\n",
       "      <td>7</td>\n",
       "      <td>6</td>\n",
       "      <td>19</td>\n",
       "      <td>0</td>\n",
       "      <td>0</td>\n",
       "      <td>...</td>\n",
       "      <td>7</td>\n",
       "      <td>7</td>\n",
       "      <td>11</td>\n",
       "      <td>835</td>\n",
       "      <td>2</td>\n",
       "      <td>522</td>\n",
       "      <td>598</td>\n",
       "      <td>1232</td>\n",
       "      <td>96</td>\n",
       "      <td>Bacterial sepsis</td>\n",
       "    </tr>\n",
       "    <tr>\n",
       "      <th>gene_id_FLU_30_S39_</th>\n",
       "      <td>8</td>\n",
       "      <td>2</td>\n",
       "      <td>0</td>\n",
       "      <td>360</td>\n",
       "      <td>63</td>\n",
       "      <td>1</td>\n",
       "      <td>27</td>\n",
       "      <td>19</td>\n",
       "      <td>0</td>\n",
       "      <td>0</td>\n",
       "      <td>...</td>\n",
       "      <td>19</td>\n",
       "      <td>49</td>\n",
       "      <td>73</td>\n",
       "      <td>923</td>\n",
       "      <td>5</td>\n",
       "      <td>1239</td>\n",
       "      <td>3671</td>\n",
       "      <td>2779</td>\n",
       "      <td>432</td>\n",
       "      <td>Bacterial sepsis</td>\n",
       "    </tr>\n",
       "    <tr>\n",
       "      <th>gene_id_FLU_45_</th>\n",
       "      <td>14</td>\n",
       "      <td>12</td>\n",
       "      <td>1</td>\n",
       "      <td>904</td>\n",
       "      <td>184</td>\n",
       "      <td>0</td>\n",
       "      <td>58</td>\n",
       "      <td>14</td>\n",
       "      <td>2</td>\n",
       "      <td>0</td>\n",
       "      <td>...</td>\n",
       "      <td>38</td>\n",
       "      <td>74</td>\n",
       "      <td>86</td>\n",
       "      <td>827</td>\n",
       "      <td>12</td>\n",
       "      <td>630</td>\n",
       "      <td>2799</td>\n",
       "      <td>3068</td>\n",
       "      <td>675</td>\n",
       "      <td>Bacterial sepsis</td>\n",
       "    </tr>\n",
       "  </tbody>\n",
       "</table>\n",
       "<p>403 rows × 26486 columns</p>\n",
       "</div>"
      ],
      "text/plain": [
       "                      A1BG  A1BG_AS1  A1CF   A2M  A2M_AS1  A2ML1  A2MP1  \\\n",
       "Unnamed: 0                                                                \n",
       "gene_id_NPS-502_         0         0     0     0        0      4      0   \n",
       "gene_id_NPS-444_         0         0     0     5        0      1      0   \n",
       "gene_id_NPS-445_         1         0     0     1        0      0      0   \n",
       "gene_id_NPS-447_         0         0     0     1        0      3      1   \n",
       "gene_id_NPS-612_         0         0     0     1        0      3      0   \n",
       "...                    ...       ...   ...   ...      ...    ...    ...   \n",
       "gene_id_FLU_22_S38_     23         4     6  4768      926      2    358   \n",
       "gene_id_FLU_27_S195_    16         1     0    61       21      0     10   \n",
       "gene_id_FLU_29_S179_     2         0     0   218       44      7      6   \n",
       "gene_id_FLU_30_S39_      8         2     0   360       63      1     27   \n",
       "gene_id_FLU_45_         14        12     1   904      184      0     58   \n",
       "\n",
       "                      A3GALT2  A4GALT  A4GNT  ...  ZWINT  ZXDA  ZXDB  ZXDC  \\\n",
       "Unnamed: 0                                    ...                            \n",
       "gene_id_NPS-502_            0      20      0  ...      0     0     3    10   \n",
       "gene_id_NPS-444_            1      35      0  ...      2     0     1    10   \n",
       "gene_id_NPS-445_            0       4      0  ...      0     0     0     1   \n",
       "gene_id_NPS-447_            1      11      0  ...      0     0     1     5   \n",
       "gene_id_NPS-612_            0      35      0  ...      0     0     3     6   \n",
       "...                       ...     ...    ...  ...    ...   ...   ...   ...   \n",
       "gene_id_FLU_22_S38_        13       2      0  ...    109   220   226  1703   \n",
       "gene_id_FLU_27_S195_       14       0      0  ...      5    29    41   517   \n",
       "gene_id_FLU_29_S179_       19       0      0  ...      7     7    11   835   \n",
       "gene_id_FLU_30_S39_        19       0      0  ...     19    49    73   923   \n",
       "gene_id_FLU_45_            14       2      0  ...     38    74    86   827   \n",
       "\n",
       "                      ZYG11A  ZYG11B   ZYX  ZZEF1  ZZZ3  \\\n",
       "Unnamed: 0                                                \n",
       "gene_id_NPS-502_           0       8     1     48     6   \n",
       "gene_id_NPS-444_           0       4    10     49     1   \n",
       "gene_id_NPS-445_           0       0    10      5     3   \n",
       "gene_id_NPS-447_           2       2     9      5     1   \n",
       "gene_id_NPS-612_           0       1    10     22     4   \n",
       "...                      ...     ...   ...    ...   ...   \n",
       "gene_id_FLU_22_S38_       10    1363   957   3431  1439   \n",
       "gene_id_FLU_27_S195_       0     645  3930   1969   165   \n",
       "gene_id_FLU_29_S179_       2     522   598   1232    96   \n",
       "gene_id_FLU_30_S39_        5    1239  3671   2779   432   \n",
       "gene_id_FLU_45_           12     630  2799   3068   675   \n",
       "\n",
       "                                         disease state  \n",
       "Unnamed: 0                                              \n",
       "gene_id_NPS-502_       Viral acute respiratory illness  \n",
       "gene_id_NPS-444_       Viral acute respiratory illness  \n",
       "gene_id_NPS-445_       Viral acute respiratory illness  \n",
       "gene_id_NPS-447_       Viral acute respiratory illness  \n",
       "gene_id_NPS-612_       Viral acute respiratory illness  \n",
       "...                                                ...  \n",
       "gene_id_FLU_22_S38_                   Bacterial sepsis  \n",
       "gene_id_FLU_27_S195_                  Bacterial sepsis  \n",
       "gene_id_FLU_29_S179_                  Bacterial sepsis  \n",
       "gene_id_FLU_30_S39_                   Bacterial sepsis  \n",
       "gene_id_FLU_45_                       Bacterial sepsis  \n",
       "\n",
       "[403 rows x 26486 columns]"
      ]
     },
     "execution_count": 22,
     "metadata": {},
     "output_type": "execute_result"
    }
   ],
   "source": [
    "#labels['ind'] = gse_151_init.index\n",
    "gse_151_init = gse_151_init.join(labels['disease state'])\n",
    "gse_151_init"
   ]
  },
  {
   "cell_type": "code",
   "execution_count": null,
   "metadata": {},
   "outputs": [],
   "source": []
  },
  {
   "cell_type": "markdown",
   "metadata": {},
   "source": [
    "Filter Dataset to COVID-19 and Donor control"
   ]
  },
  {
   "cell_type": "code",
   "execution_count": 27,
   "metadata": {},
   "outputs": [
    {
     "name": "stderr",
     "output_type": "stream",
     "text": [
      "C:\\Users\\Γιάννης Δάλλας\\AppData\\Roaming\\Python\\Python36\\site-packages\\pandas\\core\\frame.py:3997: SettingWithCopyWarning: \n",
      "A value is trying to be set on a copy of a slice from a DataFrame\n",
      "\n",
      "See the caveats in the documentation: https://pandas.pydata.org/pandas-docs/stable/user_guide/indexing.html#returning-a-view-versus-a-copy\n",
      "  errors=errors,\n"
     ]
    }
   ],
   "source": [
    "gse_151 = gse_151_init.loc[(gse_151_init['disease state'] == ' COVID-19') | (gse_151_init['disease state'] == ' Donor control')]\n",
    "gse_151.drop(columns =['disease state'],inplace = True)"
   ]
  },
  {
   "cell_type": "code",
   "execution_count": 30,
   "metadata": {},
   "outputs": [
    {
     "data": {
      "text/html": [
       "<div>\n",
       "<style scoped>\n",
       "    .dataframe tbody tr th:only-of-type {\n",
       "        vertical-align: middle;\n",
       "    }\n",
       "\n",
       "    .dataframe tbody tr th {\n",
       "        vertical-align: top;\n",
       "    }\n",
       "\n",
       "    .dataframe thead th {\n",
       "        text-align: right;\n",
       "    }\n",
       "</style>\n",
       "<table border=\"1\" class=\"dataframe\">\n",
       "  <thead>\n",
       "    <tr style=\"text-align: right;\">\n",
       "      <th></th>\n",
       "      <th>Sample</th>\n",
       "      <th>geographic location</th>\n",
       "      <th>disease state</th>\n",
       "      <th>pathogen</th>\n",
       "      <th>date collected</th>\n",
       "    </tr>\n",
       "    <tr>\n",
       "      <th>index</th>\n",
       "      <th></th>\n",
       "      <th></th>\n",
       "      <th></th>\n",
       "      <th></th>\n",
       "      <th></th>\n",
       "    </tr>\n",
       "  </thead>\n",
       "  <tbody>\n",
       "    <tr>\n",
       "      <th>gene_id_NPS_230_R1_</th>\n",
       "      <td>NPS-230</td>\n",
       "      <td>USA</td>\n",
       "      <td>COVID-19</td>\n",
       "      <td>SARS-CoV-2</td>\n",
       "      <td>3-2-2020</td>\n",
       "    </tr>\n",
       "    <tr>\n",
       "      <th>gene_id_NPS_313_R1_</th>\n",
       "      <td>NPS-313</td>\n",
       "      <td>USA</td>\n",
       "      <td>COVID-19</td>\n",
       "      <td>SARS-CoV-2</td>\n",
       "      <td>3-3-2020</td>\n",
       "    </tr>\n",
       "    <tr>\n",
       "      <th>gene_id_NPS_216_R1_</th>\n",
       "      <td>NPS-216</td>\n",
       "      <td>USA</td>\n",
       "      <td>COVID-19</td>\n",
       "      <td>SARS-CoV-2</td>\n",
       "      <td>3-10-2020</td>\n",
       "    </tr>\n",
       "    <tr>\n",
       "      <th>gene_id_NPS_220_R1_</th>\n",
       "      <td>NPS-220</td>\n",
       "      <td>USA</td>\n",
       "      <td>COVID-19</td>\n",
       "      <td>SARS-CoV-2</td>\n",
       "      <td>3-11-2020</td>\n",
       "    </tr>\n",
       "    <tr>\n",
       "      <th>gene_id_NPS_215_R1_</th>\n",
       "      <td>NPS-215</td>\n",
       "      <td>USA</td>\n",
       "      <td>COVID-19</td>\n",
       "      <td>SARS-CoV-2</td>\n",
       "      <td>3-12-2020</td>\n",
       "    </tr>\n",
       "    <tr>\n",
       "      <th>...</th>\n",
       "      <td>...</td>\n",
       "      <td>...</td>\n",
       "      <td>...</td>\n",
       "      <td>...</td>\n",
       "      <td>...</td>\n",
       "    </tr>\n",
       "    <tr>\n",
       "      <th>gene_id_WB25_</th>\n",
       "      <td>WB25</td>\n",
       "      <td>USA</td>\n",
       "      <td>COVID-19</td>\n",
       "      <td>SARS-CoV-2, NP</td>\n",
       "      <td>3-14-2020</td>\n",
       "    </tr>\n",
       "    <tr>\n",
       "      <th>gene_id_WB41_</th>\n",
       "      <td>WB41</td>\n",
       "      <td>USA</td>\n",
       "      <td>Donor control</td>\n",
       "      <td>No pathogen</td>\n",
       "      <td>N/A</td>\n",
       "    </tr>\n",
       "    <tr>\n",
       "      <th>gene_id_WB26_</th>\n",
       "      <td>WB26</td>\n",
       "      <td>USA</td>\n",
       "      <td>Donor control</td>\n",
       "      <td>No pathogen</td>\n",
       "      <td>N/A</td>\n",
       "    </tr>\n",
       "    <tr>\n",
       "      <th>gene_id_WB27_</th>\n",
       "      <td>WB27</td>\n",
       "      <td>USA</td>\n",
       "      <td>Donor control</td>\n",
       "      <td>No pathogen</td>\n",
       "      <td>N/A</td>\n",
       "    </tr>\n",
       "    <tr>\n",
       "      <th>gene_id_WB28_</th>\n",
       "      <td>WB28</td>\n",
       "      <td>USA</td>\n",
       "      <td>Donor control</td>\n",
       "      <td>No pathogen</td>\n",
       "      <td>N/A</td>\n",
       "    </tr>\n",
       "  </tbody>\n",
       "</table>\n",
       "<p>176 rows × 5 columns</p>\n",
       "</div>"
      ],
      "text/plain": [
       "                      Sample geographic location   disease state  \\\n",
       "index                                                              \n",
       "gene_id_NPS_230_R1_  NPS-230                 USA        COVID-19   \n",
       "gene_id_NPS_313_R1_  NPS-313                 USA        COVID-19   \n",
       "gene_id_NPS_216_R1_  NPS-216                 USA        COVID-19   \n",
       "gene_id_NPS_220_R1_  NPS-220                 USA        COVID-19   \n",
       "gene_id_NPS_215_R1_  NPS-215                 USA        COVID-19   \n",
       "...                      ...                 ...             ...   \n",
       "gene_id_WB25_           WB25                 USA        COVID-19   \n",
       "gene_id_WB41_           WB41                 USA   Donor control   \n",
       "gene_id_WB26_           WB26                 USA   Donor control   \n",
       "gene_id_WB27_           WB27                 USA   Donor control   \n",
       "gene_id_WB28_           WB28                 USA   Donor control   \n",
       "\n",
       "                            pathogen date collected  \n",
       "index                                                \n",
       "gene_id_NPS_230_R1_       SARS-CoV-2       3-2-2020  \n",
       "gene_id_NPS_313_R1_       SARS-CoV-2       3-3-2020  \n",
       "gene_id_NPS_216_R1_       SARS-CoV-2      3-10-2020  \n",
       "gene_id_NPS_220_R1_       SARS-CoV-2      3-11-2020  \n",
       "gene_id_NPS_215_R1_       SARS-CoV-2      3-12-2020  \n",
       "...                              ...            ...  \n",
       "gene_id_WB25_         SARS-CoV-2, NP      3-14-2020  \n",
       "gene_id_WB41_            No pathogen            N/A  \n",
       "gene_id_WB26_            No pathogen            N/A  \n",
       "gene_id_WB27_            No pathogen            N/A  \n",
       "gene_id_WB28_            No pathogen            N/A  \n",
       "\n",
       "[176 rows x 5 columns]"
      ]
     },
     "execution_count": 30,
     "metadata": {},
     "output_type": "execute_result"
    }
   ],
   "source": [
    "labels = labels.loc[(labels['disease state'] == ' COVID-19') | (labels['disease state'] == ' Donor control')]\n",
    "labels"
   ]
  },
  {
   "cell_type": "code",
   "execution_count": null,
   "metadata": {},
   "outputs": [],
   "source": []
  },
  {
   "cell_type": "code",
   "execution_count": null,
   "metadata": {},
   "outputs": [],
   "source": []
  },
  {
   "cell_type": "markdown",
   "metadata": {},
   "source": [
    "## UMAP"
   ]
  },
  {
   "cell_type": "code",
   "execution_count": null,
   "metadata": {},
   "outputs": [],
   "source": []
  },
  {
   "cell_type": "code",
   "execution_count": null,
   "metadata": {},
   "outputs": [],
   "source": [
    "umapper = umap.UMAP(n_neighbors=15,random_state=42).fit_transform(gse_151.values)\n",
    "#umap.plot.points(dens_mapper, labels=Class['!sars-cov-2 rpm'], width=500, height=500)\n",
    "fig = plt.figure()\n",
    "\n",
    "\n",
    "sns.set_style(\"white\")\n",
    "sns.scatterplot(x=umapper[:,0],y=umapper[:,1],hue=labels['disease state'],  linewidth=0.2, s=30, alpha=1).set_title('UMAP ')\n",
    "#lgd = plt.legend(frameon=False,title='TEST',handletextpad=-0.3,bbox_to_anchor=(0.5, 0.2, 1.00, 1.02),fancybox=True,shadow=False,mode=\"expand\", borderaxespad=-1.5, ncol=4)\n",
    "plt.xlabel(\"UMAP1\")\n",
    "plt.ylabel(\"UMAP2\")"
   ]
  },
  {
   "cell_type": "code",
   "execution_count": null,
   "metadata": {},
   "outputs": [],
   "source": []
  },
  {
   "cell_type": "markdown",
   "metadata": {},
   "source": [
    "## t-SNE"
   ]
  },
  {
   "cell_type": "code",
   "execution_count": null,
   "metadata": {},
   "outputs": [],
   "source": [
    "tsne = TSNE(perplexity=30)\n",
    "%time tsne_103 = tsne.fit_transform(gse_151.values)\n",
    "\n",
    "sns.scatterplot(x=tsne_103[:,0],y=tsne_103[:,1],hue=labels['disease state'].values, linewidth=0.2, s=30, alpha=1).set_title('t-SNE')\n",
    "#lgd = plt.legend( bbox_to_anchor=(1.0, 1), loc='upper left')\n",
    "plt.xlabel(\"t-SNE1\")\n",
    "plt.ylabel(\"t-SNE2\")"
   ]
  },
  {
   "cell_type": "code",
   "execution_count": null,
   "metadata": {},
   "outputs": [],
   "source": []
  },
  {
   "cell_type": "code",
   "execution_count": null,
   "metadata": {},
   "outputs": [],
   "source": []
  },
  {
   "cell_type": "markdown",
   "metadata": {},
   "source": [
    "## SAM"
   ]
  },
  {
   "cell_type": "code",
   "execution_count": null,
   "metadata": {},
   "outputs": [],
   "source": [
    "from samalg import SAM #import SAM\n",
    "sam=SAM(counts=gse_151)\n",
    "#sam.preprocess_data() # log transforms and filters the data\n",
    "sam.run() #run with default parameters\n",
    "sam.scatter(c = labels['disease state'])"
   ]
  },
  {
   "cell_type": "code",
   "execution_count": null,
   "metadata": {},
   "outputs": [],
   "source": []
  },
  {
   "cell_type": "markdown",
   "metadata": {},
   "source": [
    "## PHATE"
   ]
  },
  {
   "cell_type": "code",
   "execution_count": null,
   "metadata": {},
   "outputs": [],
   "source": [
    "phate_operator = phate.PHATE()\n",
    "ph = phate_operator.fit_transform(gse_151.values)\n",
    "\n",
    "\n",
    "sns.set_style(\"white\")\n",
    "sns.scatterplot(x=ph[:,0],y=ph[:,1],hue=labels['disease state'],  linewidth=0.2, s=30, alpha=1).set_title('PHATE')\n",
    "#lgd = plt.legend(frameon=False,title='TEST',handletextpad=-0.3,bbox_to_anchor=(0.5, 0.2, 1.00, 1.02),fancybox=True,shadow=False,mode=\"expand\", borderaxespad=-1.5, ncol=4)\n",
    "plt.xlabel(\"PHATE1\")\n",
    "plt.ylabel(\"PHATE2\")"
   ]
  },
  {
   "cell_type": "code",
   "execution_count": null,
   "metadata": {},
   "outputs": [],
   "source": []
  },
  {
   "cell_type": "markdown",
   "metadata": {},
   "source": [
    "# GSE157103"
   ]
  },
  {
   "cell_type": "code",
   "execution_count": null,
   "metadata": {},
   "outputs": [],
   "source": []
  },
  {
   "cell_type": "code",
   "execution_count": 5,
   "metadata": {},
   "outputs": [],
   "source": [
    "gse_103 = pd.read_csv('GSE157103_gene_expression_tpm.csv').set_index('Unnamed: 0')\n",
    "\n",
    "labels = pd.read_table('Class_103.txt').set_index('!Sample_title').T\n"
   ]
  },
  {
   "cell_type": "code",
   "execution_count": null,
   "metadata": {},
   "outputs": [],
   "source": []
  },
  {
   "cell_type": "code",
   "execution_count": null,
   "metadata": {},
   "outputs": [],
   "source": []
  },
  {
   "cell_type": "code",
   "execution_count": null,
   "metadata": {},
   "outputs": [],
   "source": []
  },
  {
   "cell_type": "markdown",
   "metadata": {},
   "source": [
    "##  UMAP"
   ]
  },
  {
   "cell_type": "code",
   "execution_count": null,
   "metadata": {},
   "outputs": [],
   "source": []
  },
  {
   "cell_type": "code",
   "execution_count": null,
   "metadata": {},
   "outputs": [],
   "source": [
    "umapper = umap.UMAP(n_neighbors=15,random_state=42).fit_transform(gse_103.values)\n",
    "#umap.plot.points(dens_mapper, labels=Class['!sars-cov-2 rpm'], width=500, height=500)\n",
    "fig = plt.figure()\n",
    "\n",
    "\n",
    "sns.set_style(\"white\")\n",
    "sns.scatterplot(x=umapper[:,0],y=umapper[:,1],hue=labels['!disease state'],  linewidth=0.2, s=30, alpha=1).set_title('UMAP ')\n",
    "#lgd = plt.legend(frameon=False,title='TEST',handletextpad=-0.3,bbox_to_anchor=(0.5, 0.2, 1.00, 1.02),fancybox=True,shadow=False,mode=\"expand\", borderaxespad=-1.5, ncol=4)\n",
    "plt.xlabel(\"UMAP1\")\n",
    "plt.ylabel(\"UMAP2\")"
   ]
  },
  {
   "cell_type": "code",
   "execution_count": null,
   "metadata": {},
   "outputs": [],
   "source": []
  },
  {
   "cell_type": "markdown",
   "metadata": {},
   "source": [
    "## t-SNE"
   ]
  },
  {
   "cell_type": "code",
   "execution_count": null,
   "metadata": {},
   "outputs": [],
   "source": [
    "tsne = TSNE(perplexity=25)\n",
    "%time tsne_103 = tsne.fit_transform(gse_103.values)\n",
    "\n",
    "sns.scatterplot(x=tsne_103[:,0],y=tsne_103[:,1],hue=labels['!disease state'].values, linewidth=0.2, s=30, alpha=1).set_title('t-SNE')\n",
    "#lgd = plt.legend( bbox_to_anchor=(1.0, 1), loc='upper left')\n",
    "plt.xlabel(\"t-SNE1\")\n",
    "plt.ylabel(\"t-SNE2\")"
   ]
  },
  {
   "cell_type": "code",
   "execution_count": null,
   "metadata": {},
   "outputs": [],
   "source": []
  },
  {
   "cell_type": "code",
   "execution_count": null,
   "metadata": {},
   "outputs": [],
   "source": []
  },
  {
   "cell_type": "markdown",
   "metadata": {},
   "source": [
    "## SAM"
   ]
  },
  {
   "cell_type": "code",
   "execution_count": null,
   "metadata": {},
   "outputs": [],
   "source": [
    "from samalg import SAM #import SAM\n",
    "sam=SAM(counts=gse_103)\n",
    "#sam.preprocess_data() # log transforms and filters the data\n",
    "sam.run() #run with default parameters\n",
    "sam.scatter(c = labels['!disease state'])"
   ]
  },
  {
   "cell_type": "code",
   "execution_count": null,
   "metadata": {},
   "outputs": [],
   "source": []
  },
  {
   "cell_type": "code",
   "execution_count": null,
   "metadata": {},
   "outputs": [],
   "source": []
  },
  {
   "cell_type": "markdown",
   "metadata": {},
   "source": [
    "## PHATE"
   ]
  },
  {
   "cell_type": "code",
   "execution_count": null,
   "metadata": {},
   "outputs": [],
   "source": [
    "phate_operator = phate.PHATE()\n",
    "ph = phate_operator.fit_transform(gse_103.values)\n",
    "\n",
    "\n",
    "sns.set_style(\"white\")\n",
    "sns.scatterplot(x=ph[:,0],y=ph[:,1],hue=labels['!disease state'],  linewidth=0.2, s=30, alpha=1).set_title('PHATE')\n",
    "#lgd = plt.legend(frameon=False,title='TEST',handletextpad=-0.3,bbox_to_anchor=(0.5, 0.2, 1.00, 1.02),fancybox=True,shadow=False,mode=\"expand\", borderaxespad=-1.5, ncol=4)\n",
    "plt.xlabel(\"PHATE1\")\n",
    "plt.ylabel(\"PHATE2\")"
   ]
  },
  {
   "cell_type": "code",
   "execution_count": null,
   "metadata": {},
   "outputs": [],
   "source": []
  },
  {
   "cell_type": "code",
   "execution_count": null,
   "metadata": {},
   "outputs": [],
   "source": []
  },
  {
   "cell_type": "markdown",
   "metadata": {},
   "source": [
    "# E-MTAB-9221"
   ]
  },
  {
   "cell_type": "code",
   "execution_count": null,
   "metadata": {},
   "outputs": [],
   "source": [
    "emtab = pd.read_csv('E-MTAB-9221.aggregated_filtered_normalised_counts.csv').set_index('Unnamed: 0')\n",
    "\n",
    "labels = pd.read_csv('metadata.csv').set_index('Assay')\n"
   ]
  },
  {
   "cell_type": "code",
   "execution_count": null,
   "metadata": {},
   "outputs": [],
   "source": []
  },
  {
   "cell_type": "markdown",
   "metadata": {},
   "source": [
    "## UMAP"
   ]
  },
  {
   "cell_type": "code",
   "execution_count": null,
   "metadata": {},
   "outputs": [],
   "source": []
  },
  {
   "cell_type": "code",
   "execution_count": null,
   "metadata": {},
   "outputs": [],
   "source": [
    "\n",
    "umapper = umap.UMAP(n_neighbors=15,random_state=42).fit_transform(emtab.values)\n",
    "#umap.plot.points(dens_mapper, labels=Class['!sars-cov-2 rpm'], width=500, height=500)\n",
    "fig = plt.figure()\n",
    "\n",
    "sns.set_style(\"white\")\n",
    "sns.scatterplot(x=umapper[:,0],y=umapper[:,1],hue=labels['Factor Value[disease]'],  linewidth=0.2, s=30, alpha=1).set_title('UMAP ')\n",
    "#lgd = plt.legend(frameon=False,title='TEST',handletextpad=-0.3,bbox_to_anchor=(0.5, 0.2, 1.00, 1.02),fancybox=True,shadow=False,mode=\"expand\", borderaxespad=-1.5, ncol=4)\n",
    "plt.xlabel(\"UMAP1\")\n",
    "plt.ylabel(\"UMAP2\")"
   ]
  },
  {
   "cell_type": "code",
   "execution_count": null,
   "metadata": {},
   "outputs": [],
   "source": []
  },
  {
   "cell_type": "markdown",
   "metadata": {},
   "source": [
    "## t-SNE"
   ]
  },
  {
   "cell_type": "code",
   "execution_count": null,
   "metadata": {},
   "outputs": [],
   "source": [
    "tsne = TSNE(perplexity=30)\n",
    "\n",
    "%time tsne_emtab = tsne.fit_transform(emtab.values)\n",
    "\n",
    "sns.scatterplot(x=tsne_emtab[:,0],y=tsne_emtab[:,1],hue=labels['Factor Value[disease]'].values, linewidth=0.2, s=30, alpha=1).set_title('t-SNE')\n",
    "#lgd = plt.legend( bbox_to_anchor=(1.0, 1), loc='upper left')\n",
    "plt.xlabel(\"t-SNE1\")\n",
    "plt.ylabel(\"t-SNE2\")"
   ]
  },
  {
   "cell_type": "code",
   "execution_count": null,
   "metadata": {},
   "outputs": [],
   "source": []
  },
  {
   "cell_type": "markdown",
   "metadata": {},
   "source": [
    "## SAM"
   ]
  },
  {
   "cell_type": "code",
   "execution_count": null,
   "metadata": {},
   "outputs": [],
   "source": [
    "from samalg import SAM #import SAM\n",
    "sam=SAM(counts=emtab)\n",
    "#sam.preprocess_data() # log transforms and filters the data\n",
    "sam.run() #run with default parameters\n",
    "sam.scatter(c = labels['Factor Value[disease]'])"
   ]
  },
  {
   "cell_type": "code",
   "execution_count": null,
   "metadata": {},
   "outputs": [],
   "source": []
  },
  {
   "cell_type": "markdown",
   "metadata": {},
   "source": [
    "## PHATE"
   ]
  },
  {
   "cell_type": "code",
   "execution_count": null,
   "metadata": {},
   "outputs": [],
   "source": [
    "phate_operator = phate.PHATE()\n",
    "ph = phate_operator.fit_transform(emtab.values)\n",
    "\n",
    "\n",
    "sns.set_style(\"white\")\n",
    "sns.scatterplot(x=ph[:,0],y=ph[:,1],hue=labels['Factor Value[disease]'],  linewidth=0.2, s=30, alpha=1).set_title('PHATE')\n",
    "#lgd = plt.legend(frameon=False,title='TEST',handletextpad=-0.3,bbox_to_anchor=(0.5, 0.2, 1.00, 1.02),fancybox=True,shadow=False,mode=\"expand\", borderaxespad=-1.5, ncol=4)\n",
    "plt.xlabel(\"PHATE1\")\n",
    "plt.ylabel(\"PHATE2\")"
   ]
  }
 ],
 "metadata": {
  "kernelspec": {
   "display_name": "Python 3",
   "language": "python",
   "name": "python3"
  },
  "language_info": {
   "codemirror_mode": {
    "name": "ipython",
    "version": 3
   },
   "file_extension": ".py",
   "mimetype": "text/x-python",
   "name": "python",
   "nbconvert_exporter": "python",
   "pygments_lexer": "ipython3",
   "version": "3.6.10"
  },
  "toc": {
   "base_numbering": 1,
   "nav_menu": {},
   "number_sections": true,
   "sideBar": true,
   "skip_h1_title": false,
   "title_cell": "Table of Contents",
   "title_sidebar": "Contents",
   "toc_cell": false,
   "toc_position": {},
   "toc_section_display": true,
   "toc_window_display": true
  },
  "varInspector": {
   "cols": {
    "lenName": 16,
    "lenType": 16,
    "lenVar": 40
   },
   "kernels_config": {
    "python": {
     "delete_cmd_postfix": "",
     "delete_cmd_prefix": "del ",
     "library": "var_list.py",
     "varRefreshCmd": "print(var_dic_list())"
    },
    "r": {
     "delete_cmd_postfix": ") ",
     "delete_cmd_prefix": "rm(",
     "library": "var_list.r",
     "varRefreshCmd": "cat(var_dic_list()) "
    }
   },
   "types_to_exclude": [
    "module",
    "function",
    "builtin_function_or_method",
    "instance",
    "_Feature"
   ],
   "window_display": false
  }
 },
 "nbformat": 4,
 "nbformat_minor": 4
}
