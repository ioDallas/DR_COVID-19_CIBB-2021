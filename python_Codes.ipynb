{
 "cells": [
  {
   "cell_type": "code",
   "execution_count": 2,
   "metadata": {},
   "outputs": [],
   "source": [
    "%matplotlib notebook\n",
    "\n",
    "import pandas as pd\n",
    "import numpy as np\n",
    "import seaborn as sns\n",
    "import matplotlib.pyplot as plt\n",
    "from sklearn.manifold import TSNE\n",
    "import umap\n",
    "import phate\n",
    "\n",
    "sns.set(style='white')"
   ]
  },
  {
   "cell_type": "code",
   "execution_count": null,
   "metadata": {},
   "outputs": [],
   "source": []
  },
  {
   "cell_type": "code",
   "execution_count": null,
   "metadata": {},
   "outputs": [],
   "source": []
  },
  {
   "cell_type": "markdown",
   "metadata": {},
   "source": [
    "# GSE152075"
   ]
  },
  {
   "cell_type": "code",
   "execution_count": null,
   "metadata": {},
   "outputs": [],
   "source": [
    "gse_075d = pd.read_csv('GSE152075_raw_counts_GEO.csv').set_index('Unnamed: 0')\n",
    "\n",
    "labels = pd.read_table('Class_075.txt').set_index('!Sample_title').T\n",
    "\n",
    "\n",
    "\n",
    "\n"
   ]
  },
  {
   "cell_type": "markdown",
   "metadata": {},
   "source": [
    "## UMAP"
   ]
  },
  {
   "cell_type": "code",
   "execution_count": null,
   "metadata": {},
   "outputs": [],
   "source": [
    "umapper = umap.UMAP(n_neighbors=15,random_state=42).fit_transform(gse_075.values)\n",
    "#umap.plot.points(dens_mapper, labels=Class['!sars-cov-2 rpm'], width=500, height=500)\n",
    "fig = plt.figure()\n",
    "\n",
    "\n",
    "sns.set_style(\"white\")\n",
    "sns.scatterplot(x=umapper[:,0],y=umapper[:,1],hue=labels['!Positiviy'],  linewidth=0.2, s=30, alpha=1).set_title('UMAP ')\n",
    "#lgd = plt.legend(frameon=False,title='TEST',handletextpad=-0.3,bbox_to_anchor=(0.5, 0.2, 1.00, 1.02),fancybox=True,shadow=False,mode=\"expand\", borderaxespad=-1.5, ncol=4)\n",
    "plt.xlabel(\"UMAP1\")\n",
    "plt.ylabel(\"UMAP2\")"
   ]
  },
  {
   "cell_type": "code",
   "execution_count": null,
   "metadata": {},
   "outputs": [],
   "source": []
  },
  {
   "cell_type": "markdown",
   "metadata": {},
   "source": [
    "## t-SNE"
   ]
  },
  {
   "cell_type": "code",
   "execution_count": null,
   "metadata": {},
   "outputs": [],
   "source": [
    "tsne = TSNE(perplexity=25)\n",
    "%time tsne_075 = tsne.fit_transform(gse_075.values)\n",
    "\n",
    "sns.scatterplot(x=tsne_075[:,0],y=tsne_075[:,1],hue=labels['!Positiviy'].values, linewidth=0.2, s=30, alpha=1).set_title('t-SNE')\n",
    "#lgd = plt.legend( bbox_to_anchor=(1.0, 1), loc='upper left')\n",
    "plt.xlabel(\"t-SNE1\")\n",
    "plt.ylabel(\"t-SNE2\")"
   ]
  },
  {
   "cell_type": "code",
   "execution_count": null,
   "metadata": {},
   "outputs": [],
   "source": []
  },
  {
   "cell_type": "markdown",
   "metadata": {},
   "source": [
    "## SAM"
   ]
  },
  {
   "cell_type": "code",
   "execution_count": null,
   "metadata": {},
   "outputs": [],
   "source": [
    "from samalg import SAM #import SAM\n",
    "sam=SAM(counts=gse_075)\n",
    "sam.preprocess_data() # log transforms and filters the data\n",
    "sam.run() #run with default parameters\n",
    "sam.scatter(c = labels['!Positiviy'])"
   ]
  },
  {
   "cell_type": "code",
   "execution_count": null,
   "metadata": {},
   "outputs": [],
   "source": []
  },
  {
   "cell_type": "markdown",
   "metadata": {},
   "source": [
    "## PHATE"
   ]
  },
  {
   "cell_type": "code",
   "execution_count": null,
   "metadata": {},
   "outputs": [],
   "source": [
    "\n",
    "phate_operator = phate.PHATE()\n",
    "ph = phate_operator.fit_transform(gse_075.values)\n",
    "\n",
    "sns.set_style(\"white\")\n",
    "sns.scatterplot(x=ph[:,0],y=ph[:,1],hue=labels['disease state'],  linewidth=0.2, s=30, alpha=1).set_title('PHATE')\n",
    "#lgd = plt.legend(frameon=False,title='TEST',handletextpad=-0.3,bbox_to_anchor=(0.5, 0.2, 1.00, 1.02),fancybox=True,shadow=False,mode=\"expand\", borderaxespad=-1.5, ncol=4)\n",
    "plt.xlabel(\"PHATE1\")\n",
    "plt.ylabel(\"PHATE2\")"
   ]
  },
  {
   "cell_type": "code",
   "execution_count": null,
   "metadata": {},
   "outputs": [],
   "source": []
  },
  {
   "cell_type": "code",
   "execution_count": null,
   "metadata": {},
   "outputs": [],
   "source": []
  },
  {
   "cell_type": "code",
   "execution_count": null,
   "metadata": {},
   "outputs": [],
   "source": []
  },
  {
   "cell_type": "markdown",
   "metadata": {},
   "source": [
    "# GSE163151"
   ]
  },
  {
   "cell_type": "code",
   "execution_count": 19,
   "metadata": {},
   "outputs": [],
   "source": [
    "gse_151_init = pd.read_csv('GSE163151.csv').set_index('Unnamed: 0')\n",
    "\n",
    "labels = pd.read_csv('../emb/labels/Labels/Class_151.csv')#.set_index('ind')\n",
    "labels['index'] = gse_151_init.index\n",
    "labels.set_index('index',inplace = True)"
   ]
  },
  {
   "cell_type": "code",
   "execution_count": null,
   "metadata": {},
   "outputs": [],
   "source": [
    "#labels['ind'] = gse_151_init.index\n",
    "gse_151_init = gse_151_init.join(labels['disease state'])\n",
    "gse_151_init"
   ]
  },
  {
   "cell_type": "code",
   "execution_count": null,
   "metadata": {},
   "outputs": [],
   "source": []
  },
  {
   "cell_type": "markdown",
   "metadata": {},
   "source": [
    "Filter Dataset to COVID-19 and Donor control"
   ]
  },
  {
   "cell_type": "code",
   "execution_count": null,
   "metadata": {},
   "outputs": [],
   "source": [
    "gse_151 = gse_151_init.loc[(gse_151_init['disease state'] == ' COVID-19') | (gse_151_init['disease state'] == ' Donor control')]\n",
    "gse_151.drop(columns =['disease state'],inplace = True)"
   ]
  },
  {
   "cell_type": "code",
   "execution_count": null,
   "metadata": {},
   "outputs": [],
   "source": [
    "labels = labels.loc[(labels['disease state'] == ' COVID-19') | (labels['disease state'] == ' Donor control')]\n",
    "labels"
   ]
  },
  {
   "cell_type": "code",
   "execution_count": null,
   "metadata": {},
   "outputs": [],
   "source": []
  },
  {
   "cell_type": "code",
   "execution_count": null,
   "metadata": {},
   "outputs": [],
   "source": []
  },
  {
   "cell_type": "markdown",
   "metadata": {},
   "source": [
    "## UMAP"
   ]
  },
  {
   "cell_type": "code",
   "execution_count": null,
   "metadata": {},
   "outputs": [],
   "source": []
  },
  {
   "cell_type": "code",
   "execution_count": null,
   "metadata": {},
   "outputs": [],
   "source": [
    "umapper = umap.UMAP(n_neighbors=15,random_state=42).fit_transform(gse_151.values)\n",
    "#umap.plot.points(dens_mapper, labels=Class['!sars-cov-2 rpm'], width=500, height=500)\n",
    "fig = plt.figure()\n",
    "\n",
    "\n",
    "sns.set_style(\"white\")\n",
    "sns.scatterplot(x=umapper[:,0],y=umapper[:,1],hue=labels['disease state'],  linewidth=0.2, s=30, alpha=1).set_title('UMAP ')\n",
    "#lgd = plt.legend(frameon=False,title='TEST',handletextpad=-0.3,bbox_to_anchor=(0.5, 0.2, 1.00, 1.02),fancybox=True,shadow=False,mode=\"expand\", borderaxespad=-1.5, ncol=4)\n",
    "plt.xlabel(\"UMAP1\")\n",
    "plt.ylabel(\"UMAP2\")"
   ]
  },
  {
   "cell_type": "code",
   "execution_count": null,
   "metadata": {},
   "outputs": [],
   "source": []
  },
  {
   "cell_type": "markdown",
   "metadata": {},
   "source": [
    "## t-SNE"
   ]
  },
  {
   "cell_type": "code",
   "execution_count": null,
   "metadata": {},
   "outputs": [],
   "source": [
    "tsne = TSNE(perplexity=30)\n",
    "%time tsne_103 = tsne.fit_transform(gse_151.values)\n",
    "\n",
    "sns.scatterplot(x=tsne_103[:,0],y=tsne_103[:,1],hue=labels['disease state'].values, linewidth=0.2, s=30, alpha=1).set_title('t-SNE')\n",
    "#lgd = plt.legend( bbox_to_anchor=(1.0, 1), loc='upper left')\n",
    "plt.xlabel(\"t-SNE1\")\n",
    "plt.ylabel(\"t-SNE2\")"
   ]
  },
  {
   "cell_type": "code",
   "execution_count": null,
   "metadata": {},
   "outputs": [],
   "source": []
  },
  {
   "cell_type": "code",
   "execution_count": null,
   "metadata": {},
   "outputs": [],
   "source": []
  },
  {
   "cell_type": "markdown",
   "metadata": {},
   "source": [
    "## SAM"
   ]
  },
  {
   "cell_type": "code",
   "execution_count": null,
   "metadata": {},
   "outputs": [],
   "source": [
    "from samalg import SAM #import SAM\n",
    "sam=SAM(counts=gse_151)\n",
    "#sam.preprocess_data() # log transforms and filters the data\n",
    "sam.run() #run with default parameters\n",
    "sam.scatter(c = labels['disease state'])"
   ]
  },
  {
   "cell_type": "code",
   "execution_count": null,
   "metadata": {},
   "outputs": [],
   "source": []
  },
  {
   "cell_type": "markdown",
   "metadata": {},
   "source": [
    "## PHATE"
   ]
  },
  {
   "cell_type": "code",
   "execution_count": null,
   "metadata": {},
   "outputs": [],
   "source": [
    "phate_operator = phate.PHATE()\n",
    "ph = phate_operator.fit_transform(gse_151.values)\n",
    "\n",
    "\n",
    "sns.set_style(\"white\")\n",
    "sns.scatterplot(x=ph[:,0],y=ph[:,1],hue=labels['disease state'],  linewidth=0.2, s=30, alpha=1).set_title('PHATE')\n",
    "#lgd = plt.legend(frameon=False,title='TEST',handletextpad=-0.3,bbox_to_anchor=(0.5, 0.2, 1.00, 1.02),fancybox=True,shadow=False,mode=\"expand\", borderaxespad=-1.5, ncol=4)\n",
    "plt.xlabel(\"PHATE1\")\n",
    "plt.ylabel(\"PHATE2\")"
   ]
  },
  {
   "cell_type": "code",
   "execution_count": null,
   "metadata": {},
   "outputs": [],
   "source": []
  },
  {
   "cell_type": "markdown",
   "metadata": {},
   "source": [
    "# GSE157103"
   ]
  },
  {
   "cell_type": "code",
   "execution_count": null,
   "metadata": {},
   "outputs": [],
   "source": []
  },
  {
   "cell_type": "code",
   "execution_count": 5,
   "metadata": {},
   "outputs": [],
   "source": [
    "gse_103 = pd.read_csv('GSE157103_gene_expression_tpm.csv').set_index('Unnamed: 0')\n",
    "\n",
    "labels = pd.read_table('Class_103.txt').set_index('!Sample_title').T\n"
   ]
  },
  {
   "cell_type": "code",
   "execution_count": null,
   "metadata": {},
   "outputs": [],
   "source": []
  },
  {
   "cell_type": "code",
   "execution_count": null,
   "metadata": {},
   "outputs": [],
   "source": []
  },
  {
   "cell_type": "code",
   "execution_count": null,
   "metadata": {},
   "outputs": [],
   "source": []
  },
  {
   "cell_type": "markdown",
   "metadata": {},
   "source": [
    "##  UMAP"
   ]
  },
  {
   "cell_type": "code",
   "execution_count": null,
   "metadata": {},
   "outputs": [],
   "source": []
  },
  {
   "cell_type": "code",
   "execution_count": null,
   "metadata": {},
   "outputs": [],
   "source": [
    "umapper = umap.UMAP(n_neighbors=15,random_state=42).fit_transform(gse_103.values)\n",
    "#umap.plot.points(dens_mapper, labels=Class['!sars-cov-2 rpm'], width=500, height=500)\n",
    "fig = plt.figure()\n",
    "\n",
    "\n",
    "sns.set_style(\"white\")\n",
    "sns.scatterplot(x=umapper[:,0],y=umapper[:,1],hue=labels['!disease state'],  linewidth=0.2, s=30, alpha=1).set_title('UMAP ')\n",
    "#lgd = plt.legend(frameon=False,title='TEST',handletextpad=-0.3,bbox_to_anchor=(0.5, 0.2, 1.00, 1.02),fancybox=True,shadow=False,mode=\"expand\", borderaxespad=-1.5, ncol=4)\n",
    "plt.xlabel(\"UMAP1\")\n",
    "plt.ylabel(\"UMAP2\")"
   ]
  },
  {
   "cell_type": "code",
   "execution_count": null,
   "metadata": {},
   "outputs": [],
   "source": []
  },
  {
   "cell_type": "markdown",
   "metadata": {},
   "source": [
    "## t-SNE"
   ]
  },
  {
   "cell_type": "code",
   "execution_count": null,
   "metadata": {},
   "outputs": [],
   "source": [
    "tsne = TSNE(perplexity=25)\n",
    "%time tsne_103 = tsne.fit_transform(gse_103.values)\n",
    "\n",
    "sns.scatterplot(x=tsne_103[:,0],y=tsne_103[:,1],hue=labels['!disease state'].values, linewidth=0.2, s=30, alpha=1).set_title('t-SNE')\n",
    "#lgd = plt.legend( bbox_to_anchor=(1.0, 1), loc='upper left')\n",
    "plt.xlabel(\"t-SNE1\")\n",
    "plt.ylabel(\"t-SNE2\")"
   ]
  },
  {
   "cell_type": "code",
   "execution_count": null,
   "metadata": {},
   "outputs": [],
   "source": []
  },
  {
   "cell_type": "code",
   "execution_count": null,
   "metadata": {},
   "outputs": [],
   "source": []
  },
  {
   "cell_type": "markdown",
   "metadata": {},
   "source": [
    "## SAM"
   ]
  },
  {
   "cell_type": "code",
   "execution_count": null,
   "metadata": {},
   "outputs": [],
   "source": [
    "from samalg import SAM #import SAM\n",
    "sam=SAM(counts=gse_103)\n",
    "#sam.preprocess_data() # log transforms and filters the data\n",
    "sam.run() #run with default parameters\n",
    "sam.scatter(c = labels['!disease state'])"
   ]
  },
  {
   "cell_type": "code",
   "execution_count": null,
   "metadata": {},
   "outputs": [],
   "source": []
  },
  {
   "cell_type": "code",
   "execution_count": null,
   "metadata": {},
   "outputs": [],
   "source": []
  },
  {
   "cell_type": "markdown",
   "metadata": {},
   "source": [
    "## PHATE"
   ]
  },
  {
   "cell_type": "code",
   "execution_count": null,
   "metadata": {},
   "outputs": [],
   "source": [
    "phate_operator = phate.PHATE()\n",
    "ph = phate_operator.fit_transform(gse_103.values)\n",
    "\n",
    "\n",
    "sns.set_style(\"white\")\n",
    "sns.scatterplot(x=ph[:,0],y=ph[:,1],hue=labels['!disease state'],  linewidth=0.2, s=30, alpha=1).set_title('PHATE')\n",
    "#lgd = plt.legend(frameon=False,title='TEST',handletextpad=-0.3,bbox_to_anchor=(0.5, 0.2, 1.00, 1.02),fancybox=True,shadow=False,mode=\"expand\", borderaxespad=-1.5, ncol=4)\n",
    "plt.xlabel(\"PHATE1\")\n",
    "plt.ylabel(\"PHATE2\")"
   ]
  },
  {
   "cell_type": "code",
   "execution_count": null,
   "metadata": {},
   "outputs": [],
   "source": []
  },
  {
   "cell_type": "code",
   "execution_count": null,
   "metadata": {},
   "outputs": [],
   "source": []
  },
  {
   "cell_type": "markdown",
   "metadata": {},
   "source": [
    "# E-MTAB-9221"
   ]
  },
  {
   "cell_type": "code",
   "execution_count": null,
   "metadata": {},
   "outputs": [],
   "source": [
    "emtab = pd.read_csv('E-MTAB-9221.aggregated_filtered_normalised_counts.csv').set_index('Unnamed: 0')\n",
    "\n",
    "labels = pd.read_csv('metadata.csv').set_index('Assay')\n"
   ]
  },
  {
   "cell_type": "code",
   "execution_count": null,
   "metadata": {},
   "outputs": [],
   "source": []
  },
  {
   "cell_type": "markdown",
   "metadata": {},
   "source": [
    "## UMAP"
   ]
  },
  {
   "cell_type": "code",
   "execution_count": null,
   "metadata": {},
   "outputs": [],
   "source": []
  },
  {
   "cell_type": "code",
   "execution_count": null,
   "metadata": {},
   "outputs": [],
   "source": [
    "\n",
    "umapper = umap.UMAP(n_neighbors=15,random_state=42).fit_transform(emtab.values)\n",
    "#umap.plot.points(dens_mapper, labels=Class['!sars-cov-2 rpm'], width=500, height=500)\n",
    "fig = plt.figure()\n",
    "\n",
    "sns.set_style(\"white\")\n",
    "sns.scatterplot(x=umapper[:,0],y=umapper[:,1],hue=labels['Factor Value[disease]'],  linewidth=0.2, s=30, alpha=1).set_title('UMAP ')\n",
    "#lgd = plt.legend(frameon=False,title='TEST',handletextpad=-0.3,bbox_to_anchor=(0.5, 0.2, 1.00, 1.02),fancybox=True,shadow=False,mode=\"expand\", borderaxespad=-1.5, ncol=4)\n",
    "plt.xlabel(\"UMAP1\")\n",
    "plt.ylabel(\"UMAP2\")"
   ]
  },
  {
   "cell_type": "code",
   "execution_count": null,
   "metadata": {},
   "outputs": [],
   "source": []
  },
  {
   "cell_type": "markdown",
   "metadata": {},
   "source": [
    "## t-SNE"
   ]
  },
  {
   "cell_type": "code",
   "execution_count": null,
   "metadata": {},
   "outputs": [],
   "source": [
    "tsne = TSNE(perplexity=30)\n",
    "\n",
    "%time tsne_emtab = tsne.fit_transform(emtab.values)\n",
    "\n",
    "sns.scatterplot(x=tsne_emtab[:,0],y=tsne_emtab[:,1],hue=labels['Factor Value[disease]'].values, linewidth=0.2, s=30, alpha=1).set_title('t-SNE')\n",
    "#lgd = plt.legend( bbox_to_anchor=(1.0, 1), loc='upper left')\n",
    "plt.xlabel(\"t-SNE1\")\n",
    "plt.ylabel(\"t-SNE2\")"
   ]
  },
  {
   "cell_type": "code",
   "execution_count": null,
   "metadata": {},
   "outputs": [],
   "source": []
  },
  {
   "cell_type": "markdown",
   "metadata": {},
   "source": [
    "## SAM"
   ]
  },
  {
   "cell_type": "code",
   "execution_count": null,
   "metadata": {},
   "outputs": [],
   "source": [
    "from samalg import SAM #import SAM\n",
    "sam=SAM(counts=emtab)\n",
    "#sam.preprocess_data() # log transforms and filters the data\n",
    "sam.run() #run with default parameters\n",
    "sam.scatter(c = labels['Factor Value[disease]'])"
   ]
  },
  {
   "cell_type": "code",
   "execution_count": null,
   "metadata": {},
   "outputs": [],
   "source": []
  },
  {
   "cell_type": "markdown",
   "metadata": {},
   "source": [
    "## PHATE"
   ]
  },
  {
   "cell_type": "code",
   "execution_count": null,
   "metadata": {},
   "outputs": [],
   "source": [
    "phate_operator = phate.PHATE()\n",
    "ph = phate_operator.fit_transform(emtab.values)\n",
    "\n",
    "\n",
    "sns.set_style(\"white\")\n",
    "sns.scatterplot(x=ph[:,0],y=ph[:,1],hue=labels['Factor Value[disease]'],  linewidth=0.2, s=30, alpha=1).set_title('PHATE')\n",
    "#lgd = plt.legend(frameon=False,title='TEST',handletextpad=-0.3,bbox_to_anchor=(0.5, 0.2, 1.00, 1.02),fancybox=True,shadow=False,mode=\"expand\", borderaxespad=-1.5, ncol=4)\n",
    "plt.xlabel(\"PHATE1\")\n",
    "plt.ylabel(\"PHATE2\")"
   ]
  }
 ],
 "metadata": {
  "kernelspec": {
   "display_name": "Python 3",
   "language": "python",
   "name": "python3"
  },
  "language_info": {
   "codemirror_mode": {
    "name": "ipython",
    "version": 3
   },
   "file_extension": ".py",
   "mimetype": "text/x-python",
   "name": "python",
   "nbconvert_exporter": "python",
   "pygments_lexer": "ipython3",
   "version": "3.6.10"
  },
  "toc": {
   "base_numbering": 1,
   "nav_menu": {},
   "number_sections": true,
   "sideBar": true,
   "skip_h1_title": false,
   "title_cell": "Table of Contents",
   "title_sidebar": "Contents",
   "toc_cell": false,
   "toc_position": {},
   "toc_section_display": true,
   "toc_window_display": true
  },
  "varInspector": {
   "cols": {
    "lenName": 16,
    "lenType": 16,
    "lenVar": 40
   },
   "kernels_config": {
    "python": {
     "delete_cmd_postfix": "",
     "delete_cmd_prefix": "del ",
     "library": "var_list.py",
     "varRefreshCmd": "print(var_dic_list())"
    },
    "r": {
     "delete_cmd_postfix": ") ",
     "delete_cmd_prefix": "rm(",
     "library": "var_list.r",
     "varRefreshCmd": "cat(var_dic_list()) "
    }
   },
   "types_to_exclude": [
    "module",
    "function",
    "builtin_function_or_method",
    "instance",
    "_Feature"
   ],
   "window_display": false
  }
 },
 "nbformat": 4,
 "nbformat_minor": 4
}
